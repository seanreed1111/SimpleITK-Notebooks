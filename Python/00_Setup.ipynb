{
 "cells": [
  {
   "cell_type": "markdown",
   "metadata": {},
   "source": [
    "# Welcome to SimpleITK Jupyter Notebooks\n",
    "\n",
    "\n",
    "## Newcomers to Jupyter Notebooks:\n",
    "1. We use two types of cells, code and markdown.\n",
    "2. To run a code cell, select it (mouse or arrow key so that it is highlighted) and then press shift+enter which also moves focus to the next cell or ctrl+enter which doesn't.\n",
    "3. Closing the browser window does not close the Jupyter server. To close the server, go to the terminal where you ran it and press ctrl+c twice.\n",
    "\n",
    "For additional details see the [Jupyter project documentation](https://jupyter.org/documentation) on Jupyter Notebook or JupyterLab.\n",
    "\n",
    "## SimpleITK Environment Setup\n",
    "\n",
    "Check that SimpleITK and auxiliary program(s) are correctly installed in your environment, and that you have the SimpleITK version which you expect (<b>requires network connectivity</b>).\n",
    "\n",
    "You can optionally download all of the data used in the notebooks in advance. This step is only necessary if you expect to run the notebooks without network connectivity."
   ]
  },
  {
   "cell_type": "markdown",
   "metadata": {},
   "source": [
    "The following cell checks that all expected packages are installed."
   ]
  },
  {
   "cell_type": "code",
   "execution_count": 5,
   "metadata": {},
   "outputs": [
    {
     "name": "stdout",
     "output_type": "stream",
     "text": [
      "All is well.\n"
     ]
    }
   ],
   "source": [
    "import importlib\n",
    "from distutils.version import LooseVersion\n",
    "\n",
    "# check that all packages are installed (see requirements.txt file)\n",
    "required_packages = {\n",
    "    \"jupyter\",\n",
    "    \"numpy\",\n",
    "    \"matplotlib\",\n",
    "    \"ipywidgets\",\n",
    "    \"scipy\",\n",
    "    \"pandas\",\n",
    "    \"numba\",\n",
    "    \"multiprocess\",\n",
    "    \"SimpleITK\",\n",
    "}\n",
    "\n",
    "problem_packages = list()\n",
    "# Iterate over the required packages: If the package is not installed\n",
    "# ignore the exception.\n",
    "for package in required_packages:\n",
    "    try:\n",
    "        p = importlib.import_module(package)\n",
    "    except ImportError:\n",
    "        problem_packages.append(package)\n",
    "\n",
    "if len(problem_packages) == 0:\n",
    "    print(\"All is well.\")\n",
    "else:\n",
    "    print(\n",
    "        \"The following packages are required but not installed: \"\n",
    "        + \", \".join(problem_packages)\n",
    "    )"
   ]
  },
  {
   "cell_type": "code",
   "execution_count": 6,
   "metadata": {},
   "outputs": [
    {
     "name": "stdout",
     "output_type": "stream",
     "text": [
      "SimpleITK Version: 2.2.0 (ITK 5.3)\n",
      "Compiled: Aug 25 2022 19:08:15\n",
      "\n"
     ]
    }
   ],
   "source": [
    "import SimpleITK as sitk\n",
    "\n",
    "%run update_path_to_download_script\n",
    "from downloaddata import fetch_data, fetch_data_all\n",
    "\n",
    "from ipywidgets import interact\n",
    "\n",
    "print(sitk.Version())"
   ]
  },
  {
   "cell_type": "markdown",
   "metadata": {},
   "source": [
    "## add %env SITK_SHOW_COMMAND /Applications/Slicer.app/Contents/MacOS/Slicer"
   ]
  },
  {
   "cell_type": "markdown",
   "metadata": {},
   "source": [
    "We expect that you have an external image viewer installed. The default viewer is <a href=\"https://fiji.sc/#download\">Fiji</a>. If you have another viewer (i.e. ITK-SNAP or 3D Slicer) you will need to set an environment variable to point to it. This can be done from within a notebook as shown below."
   ]
  },
  {
   "cell_type": "code",
   "execution_count": 7,
   "metadata": {},
   "outputs": [
    {
     "name": "stdout",
     "output_type": "stream",
     "text": [
      "\u001b[31mSlicer\u001b[m\u001b[m*\r\n"
     ]
    }
   ],
   "source": [
    "ls /Applications/Slicer.app/Contents/MacOS"
   ]
  },
  {
   "cell_type": "code",
   "execution_count": 8,
   "metadata": {
    "simpleitk_error_allowed": "Exception thrown in SimpleITK Show:"
   },
   "outputs": [
    {
     "name": "stdout",
     "output_type": "stream",
     "text": [
      "env: SITK_SHOW_COMMAND=/Applications/Slicer.app/Contents/MacOS/Slicer\n",
      "Fetching SimpleITK.jpg\n"
     ]
    },
    {
     "name": "stderr",
     "output_type": "stream",
     "text": [
      "Debug: In /Users/runner/work/1/sitk/Code/IO/src/sitkImageViewer.cxx, line 495: ExecuteCommand: '/Applications/Slicer.app/Contents/MacOS/Slicer' '/tmp/SimpleITKLogo-4065-1.mha' \n",
      "\n",
      "\n",
      "Debug: In /Users/runner/work/1/sitk/Code/IO/src/sitkImageViewer.cxx, line 536: Normal process exit.  exitValue = 0\n",
      "\n",
      "Debug: In /Users/runner/work/1/sitk/Code/IO/src/sitkImageViewer.cxx, line 576: Done.  Deleting process.\n",
      "\n"
     ]
    }
   ],
   "source": [
    "# Uncomment the line below to change the default external viewer to your viewer of choice and test that it works.\n",
    "%env SITK_SHOW_COMMAND /Applications/Slicer.app/Contents/MacOS/Slicer\n",
    "\n",
    "# Retrieve an image from the network, read it and display using the external viewer.\n",
    "# The show method will also set the display window's title and by setting debugOn to True,\n",
    "# will also print information with respect to the command it is attempting to invoke.\n",
    "# NOTE: The debug information is printed to the terminal from which you launched the notebook\n",
    "#       server.\n",
    "sitk.Show(sitk.ReadImage(fetch_data(\"SimpleITK.jpg\")), \"SimpleITK Logo\", debugOn=True)"
   ]
  },
  {
   "cell_type": "markdown",
   "metadata": {},
   "source": [
    "Now we check that the ipywidgets will display correctly. When you run the following cell you should see a slider.\n",
    "\n",
    "If you don't see a slider please shutdown the Jupyter server, at the command line prompt press Control-c twice, and then run the following command:\n",
    "\n",
    "```jupyter nbextension enable --py --sys-prefix widgetsnbextension```"
   ]
  },
  {
   "cell_type": "code",
   "execution_count": 9,
   "metadata": {},
   "outputs": [
    {
     "data": {
      "application/vnd.jupyter.widget-view+json": {
       "model_id": "67727e3ec1624485881727b7f9fce2ce",
       "version_major": 2,
       "version_minor": 0
      },
      "text/plain": [
       "interactive(children=(IntSlider(value=5, description='x', max=10), Output()), _dom_classes=('widget-interact',…"
      ]
     },
     "metadata": {},
     "output_type": "display_data"
    }
   ],
   "source": [
    "interact(lambda x: x, x=(0, 10));"
   ]
  },
  {
   "cell_type": "markdown",
   "metadata": {},
   "source": [
    "Download all of the data in advance if you expect to be working offline (may take a couple of minutes)."
   ]
  },
  {
   "cell_type": "code",
   "execution_count": 10,
   "metadata": {},
   "outputs": [
    {
     "name": "stdout",
     "output_type": "stream",
     "text": [
      "Fetching cthead1.png\n",
      "Fetching VM1111Shrink-RGB.png\n",
      "Fetching 2th_cthead1.png\n",
      "Fetching nac-hncma-atlas2013-Slicer4Version/Data/A1_grayT1.nrrd\n",
      "Fetching nac-hncma-atlas2013-Slicer4Version/Data/A1_grayT2.nrrd\n",
      "Fetching nac-hncma-atlas2013-Slicer4Version/Data/hncma-atlas.nrrd\n",
      "Fetching B1.tiff\n",
      "Fetching B2.tiff\n",
      "Fetching B1_fixed_B2_moving0GenericAffine.mat\n",
      "Fetching B1_fixed_B2_movingComposite.h5\n",
      "Fetching coins.png\n",
      "Fetching a_vm1108.png\n",
      "Fetching vm_head_rgb.mha\n",
      "Fetching vm_head_mri.mha\n",
      "Fetching training_001_ct.mha\n",
      "Fetching training_001_mr_T1.mha\n",
      "Fetching ct_T1.standard\n",
      "Fetching CIRS057A_MR_CT_DICOM/readme.txt\n",
      "Fetching SimpleITK.jpg\n",
      "Fetching spherical_fiducials.mha\n",
      "Fetching POPI/meta/00-P.mhd\n",
      "Fetching POPI/meta/10-P.mhd\n",
      "Fetching POPI/meta/20-P.mhd\n",
      "Fetching POPI/meta/30-P.mhd\n",
      "Fetching POPI/meta/40-P.mhd\n",
      "Fetching POPI/meta/50-P.mhd\n",
      "Fetching POPI/meta/60-P.mhd\n",
      "Fetching POPI/meta/70-P.mhd\n",
      "Fetching POPI/meta/80-P.mhd\n",
      "Fetching POPI/meta/90-P.mhd\n",
      "Fetching POPI/landmarks/00-Landmarks.pts\n",
      "Fetching POPI/landmarks/10-Landmarks.pts\n",
      "Fetching POPI/landmarks/20-Landmarks.pts\n",
      "Fetching POPI/landmarks/30-Landmarks.pts\n",
      "Fetching POPI/landmarks/40-Landmarks.pts\n",
      "Fetching POPI/landmarks/50-Landmarks.pts\n",
      "Fetching POPI/landmarks/60-Landmarks.pts\n",
      "Fetching POPI/landmarks/70-Landmarks.pts\n",
      "Fetching POPI/landmarks/80-Landmarks.pts\n",
      "Fetching POPI/landmarks/90-Landmarks.pts\n",
      "Fetching POPI/masks/00-air-body-lungs.mhd\n",
      "Fetching POPI/masks/10-air-body-lungs.mhd\n",
      "Fetching POPI/masks/20-air-body-lungs.mhd\n",
      "Fetching POPI/masks/30-air-body-lungs.mhd\n",
      "Fetching POPI/masks/40-air-body-lungs.mhd\n",
      "Fetching POPI/masks/50-air-body-lungs.mhd\n",
      "Fetching POPI/masks/60-air-body-lungs.mhd\n",
      "Fetching POPI/masks/70-air-body-lungs.mhd\n",
      "Fetching POPI/masks/80-air-body-lungs.mhd\n",
      "Fetching POPI/masks/90-air-body-lungs.mhd\n",
      "Fetching liverTumorSegmentations/Patient01Homo.mha\n",
      "Fetching liverTumorSegmentations/Patient01Homo_Rad01.mha\n",
      "Fetching liverTumorSegmentations/Patient01Homo_Rad02.mha\n",
      "Fetching liverTumorSegmentations/Patient01Homo_Rad03.mha\n",
      "Fetching Control.tif\n",
      "Fetching head_mr_oriented.mha\n",
      "Fetching fib_sem_bacillus_subtilis.mha\n",
      "Fetching mr_slice_atlas/readme.txt\n",
      "Downloaded 22932 of 22932 bytes (100.00%)\n",
      "Fetching photo.dcm\n",
      "Fetching leg_panorama/readme.txt\n",
      "Downloaded 4860564 of 4860564 bytes (100.00%)\n",
      "Fetching microscopy_colocalization.nrrd\n",
      "Downloaded 121566654 of 121566654 bytes (100.00%)\n",
      "Fetching cxr.dcm\n"
     ]
    }
   ],
   "source": [
    "fetch_data_all(os.path.join(\"..\", \"Data\"), os.path.join(\"..\", \"Data\", \"manifest.json\"))"
   ]
  },
  {
   "cell_type": "code",
   "execution_count": null,
   "metadata": {},
   "outputs": [],
   "source": []
  }
 ],
 "metadata": {
  "kernelspec": {
   "display_name": "pytorch",
   "language": "python",
   "name": "pytorch"
  },
  "language_info": {
   "codemirror_mode": {
    "name": "ipython",
    "version": 3
   },
   "file_extension": ".py",
   "mimetype": "text/x-python",
   "name": "python",
   "nbconvert_exporter": "python",
   "pygments_lexer": "ipython3",
   "version": "3.8.15"
  },
  "toc": {
   "base_numbering": 1,
   "nav_menu": {},
   "number_sections": true,
   "sideBar": true,
   "skip_h1_title": false,
   "title_cell": "Table of Contents",
   "title_sidebar": "Contents",
   "toc_cell": false,
   "toc_position": {},
   "toc_section_display": true,
   "toc_window_display": false
  }
 },
 "nbformat": 4,
 "nbformat_minor": 4
}
