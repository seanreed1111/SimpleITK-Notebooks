{
 "cells": [
  {
   "cell_type": "markdown",
   "metadata": {},
   "source": [
    "# Welcome to SimpleITK Jupyter Notebooks\n",
    "\n",
    "\n",
    "## Newcomers to Jupyter Notebooks:\n",
    "1. We use two types of cells, code and markdown.\n",
    "2. To run a code cell, select it (mouse or arrow key so that it is highlighted) and then press shift+enter which also moves focus to the next cell or ctrl+enter which doesn't.\n",
    "3. Closing the browser window does not close the Jupyter server. To close the server, go to the terminal where you ran it and press ctrl+c twice.\n",
    "\n",
    "For additional details see the [Jupyter project documentation](https://jupyter.org/documentation) on Jupyter Notebook or JupyterLab.\n",
    "\n",
    "## SimpleITK Environment Setup\n",
    "\n",
    "Check that SimpleITK and auxiliary program(s) are correctly installed in your environment, and that you have the SimpleITK version which you expect (<b>requires network connectivity</b>).\n",
    "\n",
    "You can optionally download all of the data used in the notebooks in advance. This step is only necessary if you expect to run the notebooks without network connectivity."
   ]
  },
  {
   "cell_type": "markdown",
   "metadata": {},
   "source": [
    "The following cell checks that all expected packages are installed."
   ]
  },
  {
   "cell_type": "code",
   "execution_count": 1,
   "metadata": {},
   "outputs": [
    {
     "name": "stdout",
     "output_type": "stream",
     "text": [
      "All is well.\n"
     ]
    }
   ],
   "source": [
    "import importlib\n",
    "from distutils.version import LooseVersion\n",
    "\n",
    "# check that all packages are installed (see requirements.txt file)\n",
    "required_packages = {\n",
    "    \"jupyter\",\n",
    "    \"numpy\",\n",
    "    \"matplotlib\",\n",
    "    \"ipywidgets\",\n",
    "    \"scipy\",\n",
    "    \"pandas\",\n",
    "    \"numba\",\n",
    "    \"multiprocess\",\n",
    "    \"SimpleITK\",\n",
    "}\n",
    "\n",
    "problem_packages = list()\n",
    "# Iterate over the required packages: If the package is not installed\n",
    "# ignore the exception.\n",
    "for package in required_packages:\n",
    "    try:\n",
    "        p = importlib.import_module(package)\n",
    "    except ImportError:\n",
    "        problem_packages.append(package)\n",
    "\n",
    "if len(problem_packages) == 0:\n",
    "    print(\"All is well.\")\n",
    "else:\n",
    "    print(\n",
    "        \"The following packages are required but not installed: \"\n",
    "        + \", \".join(problem_packages)\n",
    "    )"
   ]
  },
  {
   "cell_type": "code",
   "execution_count": 2,
   "metadata": {},
   "outputs": [
    {
     "name": "stdout",
     "output_type": "stream",
     "text": [
      "SimpleITK Version: 2.2.0 (ITK 5.3)\n",
      "Compiled: Aug 25 2022 19:08:15\n",
      "\n"
     ]
    }
   ],
   "source": [
    "import SimpleITK as sitk\n",
    "\n",
    "%run update_path_to_download_script\n",
    "from downloaddata import fetch_data, fetch_data_all\n",
    "\n",
    "from ipywidgets import interact\n",
    "\n",
    "print(sitk.Version())"
   ]
  },
  {
   "cell_type": "markdown",
   "metadata": {},
   "source": [
    "We expect that you have an external image viewer installed. The default viewer is <a href=\"https://fiji.sc/#download\">Fiji</a>. If you have another viewer (i.e. ITK-SNAP or 3D Slicer) you will need to set an environment variable to point to it. This can be done from within a notebook as shown below."
   ]
  },
  {
   "cell_type": "code",
   "execution_count": 6,
   "metadata": {},
   "outputs": [
    {
     "name": "stdout",
     "output_type": "stream",
     "text": [
      "\u001b[31mSlicer\u001b[m\u001b[m*\n"
     ]
    }
   ],
   "source": [
    "ls /Applications/Slicer.app/Contents/MacOS"
   ]
  },
  {
   "cell_type": "code",
   "execution_count": 7,
   "metadata": {
    "simpleitk_error_allowed": "Exception thrown in SimpleITK Show:"
   },
   "outputs": [
    {
     "name": "stdout",
     "output_type": "stream",
     "text": [
      "env: SITK_SHOW_COMMAND=/Applications/Slicer.app//Contents/MacOS/Slicer\n",
      "Fetching SimpleITK.jpg\n",
      "Downloaded 7516 of 7516 bytes (100.00%)\n"
     ]
    },
    {
     "name": "stderr",
     "output_type": "stream",
     "text": [
      "Debug: In /Users/runner/work/1/sitk/Code/IO/src/sitkImageViewer.cxx, line 495: ExecuteCommand: '/Applications/Slicer.app//Contents/MacOS/Slicer' '/tmp/SimpleITKLogo-2217-0.mha' \n",
      "\n",
      "\n",
      "Debug: In /Users/runner/work/1/sitk/Code/IO/src/sitkImageViewer.cxx, line 536: Normal process exit.  exitValue = 0\n",
      "\n",
      "Debug: In /Users/runner/work/1/sitk/Code/IO/src/sitkImageViewer.cxx, line 576: Done.  Deleting process.\n",
      "\n"
     ]
    }
   ],
   "source": [
    "# Uncomment the line below to change the default external viewer to your viewer of choice and test that it works.\n",
    "%env SITK_SHOW_COMMAND /Applications/Slicer.app//Contents/MacOS/Slicer\n",
    "\n",
    "# Retrieve an image from the network, read it and display using the external viewer.\n",
    "# The show method will also set the display window's title and by setting debugOn to True,\n",
    "# will also print information with respect to the command it is attempting to invoke.\n",
    "# NOTE: The debug information is printed to the terminal from which you launched the notebook\n",
    "#       server.\n",
    "sitk.Show(sitk.ReadImage(fetch_data(\"SimpleITK.jpg\")), \"SimpleITK Logo\", debugOn=True)"
   ]
  },
  {
   "cell_type": "markdown",
   "metadata": {},
   "source": [
    "Now we check that the ipywidgets will display correctly. When you run the following cell you should see a slider.\n",
    "\n",
    "If you don't see a slider please shutdown the Jupyter server, at the command line prompt press Control-c twice, and then run the following command:\n",
    "\n",
    "```jupyter nbextension enable --py --sys-prefix widgetsnbextension```"
   ]
  },
  {
   "cell_type": "code",
   "execution_count": 8,
   "metadata": {},
   "outputs": [
    {
     "data": {
      "application/vnd.jupyter.widget-view+json": {
       "model_id": "3b5b7c2477e240f6b9da9459a9a58b25",
       "version_major": 2,
       "version_minor": 0
      },
      "text/plain": [
       "interactive(children=(IntSlider(value=5, description='x', max=10), Output()), _dom_classes=('widget-interact',…"
      ]
     },
     "metadata": {},
     "output_type": "display_data"
    }
   ],
   "source": [
    "interact(lambda x: x, x=(0, 10));"
   ]
  },
  {
   "cell_type": "markdown",
   "metadata": {},
   "source": [
    "Download all of the data in advance if you expect to be working offline (may take a couple of minutes)."
   ]
  },
  {
   "cell_type": "code",
   "execution_count": 9,
   "metadata": {},
   "outputs": [
    {
     "name": "stdout",
     "output_type": "stream",
     "text": [
      "Fetching cthead1.png\n",
      "Downloaded 29351 of 29351 bytes (100.00%)\n",
      "Fetching VM1111Shrink-RGB.png\n",
      "Downloaded 184076 of 184076 bytes (100.00%)\n",
      "Fetching 2th_cthead1.png\n",
      "Downloaded 3095 of 3095 bytes (100.00%)\n",
      "Fetching nac-hncma-atlas2013-Slicer4Version/Data/A1_grayT1.nrrd\n",
      "Downloaded 360448 of 67390213 bytes (0.53%)"
     ]
    },
    {
     "name": "stderr",
     "output_type": "stream",
     "text": [
      "Populating font family aliases took 1778 ms. Replace uses of missing font family \".SF NS Text\" with one that exists to avoid this cost. \n"
     ]
    },
    {
     "name": "stdout",
     "output_type": "stream",
     "text": [
      "Downloaded 67390213 of 67390213 bytes (100.00%)\n",
      "Fetching nac-hncma-atlas2013-Slicer4Version/Data/A1_grayT2.nrrd\n",
      "Downloaded 63979843 of 63979843 bytes (100.00%)\n",
      "Fetching nac-hncma-atlas2013-Slicer4Version/Data/hncma-atlas.nrrd\n",
      "Downloaded 466196 of 466196 bytes (100.00%)\n",
      "Fetching B1.tiff\n",
      "Downloaded 50196 of 50196 bytes (100.00%)\n",
      "Fetching B2.tiff\n",
      "Downloaded 50196 of 50196 bytes (100.00%)\n",
      "Fetching B1_fixed_B2_moving0GenericAffine.mat\n",
      "Downloaded 137 of 137 bytes (100.00%)\n",
      "Fetching B1_fixed_B2_movingComposite.h5\n",
      "Downloaded 816984 of 816984 bytes (100.00%)\n",
      "Fetching coins.png\n",
      "Downloaded 583024 of 583024 bytes (100.00%)\n",
      "Fetching a_vm1108.png\n",
      "Downloaded 408256 of 408256 bytes (100.00%)\n",
      "Fetching vm_head_rgb.mha\n",
      "Switch to module:  \"Welcome\"\n",
      "Downloaded 17694720 of 1040255141 bytes (1.70%)Local filepath received via command-line:  \"/tmp/SimpleITKLogo-2217-0.mha\"\n",
      "Downloaded 17956864 of 1040255141 bytes (1.73%)Loaded volume from file: /tmp/SimpleITKLogo-2217-0.mha. Dimensions: 200x53x1. Number of components: 3. Pixel type: unsigned char.\n",
      "\n",
      "\n",
      "Downloaded 18448384 of 1040255141 bytes (1.77%)\"Volume\" Reader has successfully read the file \"/tmp/SimpleITKLogo-2217-0.mha\" \"[0.32s]\"\n",
      "Downloaded 24473600 of 24473600 bytes (100.00%)%)\n",
      "Fetching POPI/masks/50-air-body-lungs.mhd\n",
      "Downloaded 24473600 of 24473600 bytes (100.00%)\n",
      "Fetching POPI/masks/60-air-body-lungs.mhd\n",
      "Downloaded 24473600 of 24473600 bytes (100.00%)\n",
      "Fetching POPI/masks/70-air-body-lungs.mhd\n",
      "Downloaded 12058624 of 24473600 bytes (49.27%)"
     ]
    },
    {
     "ename": "Exception",
     "evalue": "File 'readme.txt' could not be found in any of the following locations:\nhttps://s3.amazonaws.com/simpleitk/public/notebooks/SHA512/75af77c4c00deae815da507e2c84b764114080578dc621434d5b587445a93923b8ab98e4ed2ec1547498c24ab0cb0fd872a06e4fbc55818eafb43db645f78ca5, https://data.kitware.com/api/v1/file/hashsum/sha512/75af77c4c00deae815da507e2c84b764114080578dc621434d5b587445a93923b8ab98e4ed2ec1547498c24ab0cb0fd872a06e4fbc55818eafb43db645f78ca5/download",
     "output_type": "error",
     "traceback": [
      "\u001b[0;31m---------------------------------------------------------------------------\u001b[0m",
      "\u001b[0;31mException\u001b[0m                                 Traceback (most recent call last)",
      "Cell \u001b[0;32mIn [9], line 1\u001b[0m\n\u001b[0;32m----> 1\u001b[0m \u001b[43mfetch_data_all\u001b[49m\u001b[43m(\u001b[49m\u001b[43mos\u001b[49m\u001b[38;5;241;43m.\u001b[39;49m\u001b[43mpath\u001b[49m\u001b[38;5;241;43m.\u001b[39;49m\u001b[43mjoin\u001b[49m\u001b[43m(\u001b[49m\u001b[38;5;124;43m\"\u001b[39;49m\u001b[38;5;124;43m..\u001b[39;49m\u001b[38;5;124;43m\"\u001b[39;49m\u001b[43m,\u001b[49m\u001b[43m \u001b[49m\u001b[38;5;124;43m\"\u001b[39;49m\u001b[38;5;124;43mData\u001b[39;49m\u001b[38;5;124;43m\"\u001b[39;49m\u001b[43m)\u001b[49m\u001b[43m,\u001b[49m\u001b[43m \u001b[49m\u001b[43mos\u001b[49m\u001b[38;5;241;43m.\u001b[39;49m\u001b[43mpath\u001b[49m\u001b[38;5;241;43m.\u001b[39;49m\u001b[43mjoin\u001b[49m\u001b[43m(\u001b[49m\u001b[38;5;124;43m\"\u001b[39;49m\u001b[38;5;124;43m..\u001b[39;49m\u001b[38;5;124;43m\"\u001b[39;49m\u001b[43m,\u001b[49m\u001b[43m \u001b[49m\u001b[38;5;124;43m\"\u001b[39;49m\u001b[38;5;124;43mData\u001b[39;49m\u001b[38;5;124;43m\"\u001b[39;49m\u001b[43m,\u001b[49m\u001b[43m \u001b[49m\u001b[38;5;124;43m\"\u001b[39;49m\u001b[38;5;124;43mmanifest.json\u001b[39;49m\u001b[38;5;124;43m\"\u001b[39;49m\u001b[43m)\u001b[49m\u001b[43m)\u001b[49m\n",
      "File \u001b[0;32m~/PythonProjects/SimpleITK-Notebooks/Utilities/downloaddata.py:235\u001b[0m, in \u001b[0;36mfetch_data_all\u001b[0;34m(output_directory, manifest_file, verify)\u001b[0m\n\u001b[1;32m    233\u001b[0m     manifest \u001b[38;5;241m=\u001b[39m json\u001b[38;5;241m.\u001b[39mload(fp)\n\u001b[1;32m    234\u001b[0m \u001b[38;5;28;01mfor\u001b[39;00m filename \u001b[38;5;129;01min\u001b[39;00m manifest:\n\u001b[0;32m--> 235\u001b[0m     \u001b[43mfetch_data_one\u001b[49m\u001b[43m(\u001b[49m\u001b[43mfilename\u001b[49m\u001b[43m,\u001b[49m\u001b[43m \u001b[49m\u001b[43moutput_directory\u001b[49m\u001b[43m,\u001b[49m\u001b[43m \u001b[49m\u001b[43mmanifest_file\u001b[49m\u001b[43m,\u001b[49m\u001b[43m \u001b[49m\u001b[43mverify\u001b[49m\u001b[43m,\u001b[49m\u001b[43m \u001b[49m\n\u001b[1;32m    236\u001b[0m \u001b[43m                   \u001b[49m\u001b[43mforce\u001b[49m\u001b[38;5;241;43m=\u001b[39;49m\u001b[38;5;28;43;01mFalse\u001b[39;49;00m\u001b[43m)\u001b[49m\n",
      "File \u001b[0;32m~/PythonProjects/SimpleITK-Notebooks/Utilities/downloaddata.py:207\u001b[0m, in \u001b[0;36mfetch_data_one\u001b[0;34m(onefilename, output_directory, manifest_file, verify, force)\u001b[0m\n\u001b[1;32m    205\u001b[0m     error_msg \u001b[38;5;241m+\u001b[39m\u001b[38;5;241m=\u001b[39m \u001b[38;5;124m\"\u001b[39m\u001b[38;5;124m could not be found in any of the following locations:\u001b[39m\u001b[38;5;130;01m\\n\u001b[39;00m\u001b[38;5;124m\"\u001b[39m \n\u001b[1;32m    206\u001b[0m     error_msg \u001b[38;5;241m+\u001b[39m\u001b[38;5;241m=\u001b[39m \u001b[38;5;124m\"\u001b[39m\u001b[38;5;124m, \u001b[39m\u001b[38;5;124m\"\u001b[39m\u001b[38;5;241m.\u001b[39mjoin(all_urls)\n\u001b[0;32m--> 207\u001b[0m     \u001b[38;5;28;01mraise\u001b[39;00m \u001b[38;5;167;01mException\u001b[39;00m(error_msg)\n\u001b[1;32m    209\u001b[0m \u001b[38;5;28;01mif\u001b[39;00m \u001b[38;5;129;01mnot\u001b[39;00m new_download \u001b[38;5;129;01mand\u001b[39;00m verify:\n\u001b[1;32m    210\u001b[0m     \u001b[38;5;66;03m# If the file was part of an archive then we don't verify it. These\u001b[39;00m\n\u001b[1;32m    211\u001b[0m     \u001b[38;5;66;03m# files are only verfied on download\u001b[39;00m\n\u001b[1;32m    212\u001b[0m     \u001b[38;5;28;01mif\u001b[39;00m ( \u001b[38;5;129;01mnot\u001b[39;00m \u001b[38;5;124m\"\u001b[39m\u001b[38;5;124marchive\u001b[39m\u001b[38;5;124m\"\u001b[39m \u001b[38;5;129;01min\u001b[39;00m data_dictionary) \u001b[38;5;129;01mand\u001b[39;00m ( \u001b[38;5;129;01mnot\u001b[39;00m output_hash_is_valid(sha512, output_file) ):\n\u001b[1;32m    213\u001b[0m         \u001b[38;5;66;03m# Attempt to download if sha512 is incorrect.\u001b[39;00m\n",
      "\u001b[0;31mException\u001b[0m: File 'readme.txt' could not be found in any of the following locations:\nhttps://s3.amazonaws.com/simpleitk/public/notebooks/SHA512/75af77c4c00deae815da507e2c84b764114080578dc621434d5b587445a93923b8ab98e4ed2ec1547498c24ab0cb0fd872a06e4fbc55818eafb43db645f78ca5, https://data.kitware.com/api/v1/file/hashsum/sha512/75af77c4c00deae815da507e2c84b764114080578dc621434d5b587445a93923b8ab98e4ed2ec1547498c24ab0cb0fd872a06e4fbc55818eafb43db645f78ca5/download"
     ]
    }
   ],
   "source": [
    "fetch_data_all(os.path.join(\"..\", \"Data\"), os.path.join(\"..\", \"Data\", \"manifest.json\"))"
   ]
  },
  {
   "cell_type": "code",
   "execution_count": null,
   "metadata": {},
   "outputs": [],
   "source": []
  }
 ],
 "metadata": {
  "kernelspec": {
   "display_name": "pytorch",
   "language": "python",
   "name": "pytorch"
  },
  "language_info": {
   "codemirror_mode": {
    "name": "ipython",
    "version": 3
   },
   "file_extension": ".py",
   "mimetype": "text/x-python",
   "name": "python",
   "nbconvert_exporter": "python",
   "pygments_lexer": "ipython3",
   "version": "3.8.15"
  }
 },
 "nbformat": 4,
 "nbformat_minor": 4
}
